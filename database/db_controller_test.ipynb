{
 "cells": [
  {
   "cell_type": "code",
   "execution_count": 1,
   "metadata": {},
   "outputs": [],
   "source": [
    "import unittest\n",
    "from datetime import datetime, timedelta\n",
    "from db_controller import *"
   ]
  },
  {
   "cell_type": "code",
   "execution_count": 20,
   "metadata": {},
   "outputs": [],
   "source": [
    "# Controller ve test tabloları oluşturma\n",
    "\n",
    "controller = DatabaseController()\n",
    "\n",
    "controller._cursor.executescript(\"\"\"\n",
    "        CREATE TABLE Book (\n",
    "            ISBN TEXT PRIMARY KEY,\n",
    "            Title TEXT,\n",
    "            Authors TEXT,\n",
    "            Description TEXT,\n",
    "            Genre TEXT,\n",
    "            Availability INTEGER\n",
    "        );\n",
    "        CREATE TABLE Users (\n",
    "            UserID INTEGER PRIMARY KEY AUTOINCREMENT,\n",
    "            Name TEXT,\n",
    "            FavouriteGenre TEXT,\n",
    "            Password TEXT,\n",
    "            Fine REAL\n",
    "        );\n",
    "        CREATE TABLE Comment (\n",
    "            CommentID INTEGER PRIMARY KEY AUTOINCREMENT,\n",
    "            UserID INTEGER,\n",
    "            BookISBN TEXT,\n",
    "            CommentText TEXT,\n",
    "            CommentDate TEXT,\n",
    "            FOREIGN KEY(UserID) REFERENCES Users(UserID),\n",
    "            FOREIGN KEY(BookISBN) REFERENCES Book(ISBN)\n",
    "        );\n",
    "        CREATE TABLE Reservation (\n",
    "            ReservationID INTEGER PRIMARY KEY AUTOINCREMENT,\n",
    "            UserID INTEGER,\n",
    "            BookISBN TEXT,\n",
    "            ReservationDate TEXT,\n",
    "            DueDate TEXT,\n",
    "            Status TEXT,\n",
    "            FOREIGN KEY(UserID) REFERENCES Users(UserID),\n",
    "            FOREIGN KEY(BookISBN) REFERENCES Book(ISBN)\n",
    "        );\n",
    "        CREATE TABLE Notification (\n",
    "            NotificationID INTEGER PRIMARY KEY AUTOINCREMENT,\n",
    "            UserID INTEGER,\n",
    "            Message TEXT,\n",
    "            NotificationDate TEXT,\n",
    "            FOREIGN KEY(UserID) REFERENCES Users(UserID)\n",
    "        );\n",
    "        CREATE TABLE ReadingList (\n",
    "            ReadingListID INTEGER PRIMARY KEY AUTOINCREMENT,\n",
    "            UserID INTEGER,\n",
    "            BookISBN TEXT,\n",
    "            FOREIGN KEY(UserID) REFERENCES Users(UserID),\n",
    "            FOREIGN KEY(BookISBN) REFERENCES Book(ISBN)\n",
    "        );\n",
    "        \"\"\")\n",
    "\n",
    "controller._conn.commit()"
   ]
  },
  {
   "cell_type": "code",
   "execution_count": 21,
   "metadata": {},
   "outputs": [
    {
     "ename": "NameError",
     "evalue": "name 'assertTrue' is not defined",
     "output_type": "error",
     "traceback": [
      "\u001b[1;31m---------------------------------------------------------------------------\u001b[0m",
      "\u001b[1;31mNameError\u001b[0m                                 Traceback (most recent call last)",
      "Cell \u001b[1;32mIn[21], line 17\u001b[0m\n\u001b[0;32m     14\u001b[0m         book \u001b[38;5;241m=\u001b[39m controller\u001b[38;5;241m.\u001b[39m_cursor\u001b[38;5;241m.\u001b[39mfetchone()\n\u001b[0;32m     15\u001b[0m         assertIsNotNone(book)\n\u001b[1;32m---> 17\u001b[0m test_add_book()\n",
      "Cell \u001b[1;32mIn[21], line 11\u001b[0m, in \u001b[0;36mtest_add_book\u001b[1;34m()\u001b[0m\n\u001b[0;32m      1\u001b[0m \u001b[38;5;28;01mdef\u001b[39;00m \u001b[38;5;21mtest_add_book\u001b[39m():\n\u001b[0;32m      2\u001b[0m         \u001b[38;5;66;03m# Test adding a book\u001b[39;00m\n\u001b[0;32m      3\u001b[0m         result \u001b[38;5;241m=\u001b[39m controller\u001b[38;5;241m.\u001b[39madd_book(\n\u001b[0;32m      4\u001b[0m             isbn\u001b[38;5;241m=\u001b[39m\u001b[38;5;124m'\u001b[39m\u001b[38;5;124m1234567890\u001b[39m\u001b[38;5;124m'\u001b[39m,\n\u001b[0;32m      5\u001b[0m             title\u001b[38;5;241m=\u001b[39m\u001b[38;5;124m'\u001b[39m\u001b[38;5;124mTest Book\u001b[39m\u001b[38;5;124m'\u001b[39m,\n\u001b[1;32m   (...)\u001b[0m\n\u001b[0;32m      9\u001b[0m             availability\u001b[38;5;241m=\u001b[39m\u001b[38;5;241m1\u001b[39m\n\u001b[0;32m     10\u001b[0m         )\n\u001b[1;32m---> 11\u001b[0m         assertTrue(result)\n\u001b[0;32m     12\u001b[0m         \u001b[38;5;66;03m# Verify the book was added\u001b[39;00m\n\u001b[0;32m     13\u001b[0m         controller\u001b[38;5;241m.\u001b[39m_cursor\u001b[38;5;241m.\u001b[39mexecute(\u001b[38;5;124m\"\u001b[39m\u001b[38;5;124mSELECT * FROM Book WHERE ISBN = ?\u001b[39m\u001b[38;5;124m\"\u001b[39m, (\u001b[38;5;124m'\u001b[39m\u001b[38;5;124m1234567890\u001b[39m\u001b[38;5;124m'\u001b[39m,))\n",
      "\u001b[1;31mNameError\u001b[0m: name 'assertTrue' is not defined"
     ]
    }
   ],
   "source": [
    "def test_add_book():\n",
    "        # Test adding a book\n",
    "        result = controller.add_book(\n",
    "            isbn='1234567890',\n",
    "            title='Test Book',\n",
    "            authors='Author One, Author Two',\n",
    "            description='This is a test book.',\n",
    "            genre='Fiction',\n",
    "            availability=1\n",
    "        )\n",
    "        assertTrue(result)\n",
    "        # Verify the book was added\n",
    "        controller._cursor.execute(\"SELECT * FROM Book WHERE ISBN = ?\", ('1234567890',))\n",
    "        book = controller._cursor.fetchone()\n",
    "        assertIsNotNone(book)\n",
    "\n",
    "test_add_book()"
   ]
  },
  {
   "cell_type": "code",
   "execution_count": null,
   "metadata": {},
   "outputs": [],
   "source": [
    "def test_search_books(self):\n",
    "        # Add a book to search\n",
    "        self.test_add_book()\n",
    "        # Search by title\n",
    "        results = self.db_controller.search_books(title='Test')\n",
    "        self.assertEqual(len(results), 1)\n",
    "        # Search by author\n",
    "        results = self.db_controller.search_books(author='Author One')\n",
    "        self.assertEqual(len(results), 1)\n",
    "        # Search by genre\n",
    "        results = self.db_controller.search_books(genre='Fiction')\n",
    "        self.assertEqual(len(results), 1)\n",
    "        # Search with no results\n",
    "        results = self.db_controller.search_books(title='Nonexistent')\n",
    "        self.assertEqual(len(results), 0)\n"
   ]
  },
  {
   "cell_type": "code",
   "execution_count": null,
   "metadata": {},
   "outputs": [],
   "source": [
    "def test_add_user(self):\n",
    "        result = self.db_controller.add_user(\n",
    "            name='Test User',\n",
    "            password='password123',\n",
    "            favourite_genre='Fiction'\n",
    "        )\n",
    "        self.assertTrue(result)\n",
    "        # Verify the user was added\n",
    "        self.db_controller._cursor.execute(\"SELECT * FROM Users WHERE Name = ?\", ('Test User',))\n",
    "        user = self.db_controller._cursor.fetchone()\n",
    "        self.assertIsNotNone(user)"
   ]
  },
  {
   "cell_type": "code",
   "execution_count": null,
   "metadata": {},
   "outputs": [],
   "source": [
    "def test_add_comment(self):\n",
    "        # Add user and book first\n",
    "        self.test_add_user()\n",
    "        self.test_add_book()\n",
    "        # Get user ID\n",
    "        self.db_controller._cursor.execute(\"SELECT UserID FROM Users WHERE Name = ?\", ('Test User',))\n",
    "        user_id = self.db_controller._cursor.fetchone()[0]\n",
    "        # Add comment\n",
    "        result = self.db_controller.add_comment(\n",
    "            user_id=user_id,\n",
    "            book_isbn='1234567890',\n",
    "            comment_text='Great book!'\n",
    "        )\n",
    "        self.assertTrue(result)\n",
    "        # Verify the comment was added\n",
    "        self.db_controller._cursor.execute(\"SELECT * FROM Comment WHERE UserID = ? AND BookISBN = ?\", (user_id, '1234567890'))\n",
    "        comment = self.db_controller._cursor.fetchone()\n",
    "        self.assertIsNotNone(comment)"
   ]
  },
  {
   "cell_type": "code",
   "execution_count": null,
   "metadata": {},
   "outputs": [],
   "source": [
    "def test_update_fine(self):\n",
    "        # Add user first\n",
    "        self.test_add_user()\n",
    "        # Get user ID\n",
    "        self.db_controller._cursor.execute(\"SELECT UserID FROM Users WHERE Name = ?\", ('Test User',))\n",
    "        user_id = self.db_controller._cursor.fetchone()[0]\n",
    "        # Update fine\n",
    "        result = self.db_controller.update_fine(user_id, 10.0)\n",
    "        self.assertTrue(result)\n",
    "        # Verify fine is updated\n",
    "        self.db_controller._cursor.execute(\"SELECT Fine FROM Users WHERE UserID = ?\", (user_id,))\n",
    "        fine = self.db_controller._cursor.fetchone()[0]\n",
    "        self.assertEqual(fine, 10.0)"
   ]
  },
  {
   "cell_type": "code",
   "execution_count": null,
   "metadata": {},
   "outputs": [],
   "source": [
    "def test_create_book_report(self):\n",
    "        # Add user, book, comment, and reservation\n",
    "        self.test_add_user()\n",
    "        self.test_add_book()\n",
    "        self.test_add_comment()\n",
    "        # Add reservation\n",
    "        self.db_controller._cursor.execute(\"SELECT UserID FROM Users WHERE Name = ?\", ('Test User',))\n",
    "        user_id = self.db_controller._cursor.fetchone()[0]\n",
    "        due_date = datetime.now() + timedelta(days=7)\n",
    "        result = self.db_controller.add_reservation(\n",
    "            user_id=user_id,\n",
    "            book_isbn='1234567890',\n",
    "            due_date=due_date\n",
    "        )\n",
    "        self.assertTrue(result)\n",
    "        # Create book report\n",
    "        report = self.db_controller.createBookReport('1234567890')\n",
    "        self.assertEqual(len(report), 1)\n",
    "        report_data = report[0]\n",
    "        self.assertEqual(report_data[0], 'Test Book')  # Title\n",
    "        self.assertEqual(report_data[4], 1)  # ReservationCount\n",
    "        self.assertEqual(report_data[5], 1)  # CommentCount"
   ]
  },
  {
   "cell_type": "code",
   "execution_count": null,
   "metadata": {},
   "outputs": [],
   "source": [
    "def test_create_user_report(self):\n",
    "        # Add user, comment, and reservation\n",
    "        self.test_add_user()\n",
    "        self.test_add_book()\n",
    "        self.test_add_comment()\n",
    "        self.test_update_fine()\n",
    "        # Add reservation\n",
    "        self.db_controller._cursor.execute(\"SELECT UserID FROM Users WHERE Name = ?\", ('Test User',))\n",
    "        user_id = self.db_controller._cursor.fetchone()[0]\n",
    "        due_date = datetime.now() + timedelta(days=7)\n",
    "        self.db_controller.add_reservation(\n",
    "            user_id=user_id,\n",
    "            book_isbn='1234567890',\n",
    "            due_date=due_date\n",
    "        )\n",
    "        # Create user report\n",
    "        report = self.db_controller.createUserReport(user_id)\n",
    "        self.assertEqual(len(report), 1)\n",
    "        report_data = report[0]\n",
    "        self.assertEqual(report_data[0], 'Test User')  # Name\n",
    "        self.assertEqual(report_data[2], 1)  # ReservationCount\n",
    "        self.assertEqual(report_data[3], 1)  # CommentCount\n"
   ]
  },
  {
   "cell_type": "code",
   "execution_count": 18,
   "metadata": {},
   "outputs": [],
   "source": [
    "controller._conn.close()\n",
    "del controller"
   ]
  },
  {
   "cell_type": "code",
   "execution_count": null,
   "metadata": {},
   "outputs": [],
   "source": []
  }
 ],
 "metadata": {
  "kernelspec": {
   "display_name": "base",
   "language": "python",
   "name": "python3"
  },
  "language_info": {
   "codemirror_mode": {
    "name": "ipython",
    "version": 3
   },
   "file_extension": ".py",
   "mimetype": "text/x-python",
   "name": "python",
   "nbconvert_exporter": "python",
   "pygments_lexer": "ipython3",
   "version": "3.11.7"
  }
 },
 "nbformat": 4,
 "nbformat_minor": 2
}
