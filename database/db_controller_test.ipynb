{
 "cells": [
  {
   "cell_type": "code",
   "execution_count": 22,
   "metadata": {},
   "outputs": [],
   "source": [
    "import unittest\n",
    "from datetime import datetime, timedelta\n",
    "from db_controller import *"
   ]
  },
  {
   "cell_type": "code",
   "execution_count": 23,
   "metadata": {},
   "outputs": [],
   "source": [
    "# Controller oluşturma\n",
    "controller = DatabaseController(db_name=\"test.db\")"
   ]
  },
  {
   "cell_type": "code",
   "execution_count": 24,
   "metadata": {},
   "outputs": [],
   "source": [
    "controller = DatabaseController()\n",
    "\n",
    "controller._cursor.executescript(\"\"\"\n",
    "        DROP TABLE IF EXISTS Book;\n",
    "        DROP TABLE IF EXISTS Users;\n",
    "        DROP TABLE IF EXISTS Comment;\n",
    "        DROP TABLE IF EXISTS Reservation;\n",
    "        DROP TABLE IF EXISTS Notification;\n",
    "        DROP TABLE IF EXISTS ReadingList;\n",
    "        \n",
    "        CREATE TABLE Book (\n",
    "            ISBN TEXT PRIMARY KEY,\n",
    "            Title TEXT,\n",
    "            Authors TEXT,\n",
    "            Description TEXT,\n",
    "            Genre TEXT,\n",
    "            Availability INTEGER\n",
    "        );\n",
    "        CREATE TABLE Users (\n",
    "            UserID INTEGER PRIMARY KEY AUTOINCREMENT,\n",
    "            Name TEXT,\n",
    "            FavouriteGenre TEXT,\n",
    "            Password TEXT,\n",
    "            Fine REAL\n",
    "        );\n",
    "        CREATE TABLE Comment (\n",
    "            CommentID INTEGER PRIMARY KEY AUTOINCREMENT,\n",
    "            UserID INTEGER,\n",
    "            BookISBN TEXT,\n",
    "            CommentText TEXT,\n",
    "            CommentDate TEXT,\n",
    "            FOREIGN KEY(UserID) REFERENCES Users(UserID),\n",
    "            FOREIGN KEY(BookISBN) REFERENCES Book(ISBN)\n",
    "        );\n",
    "        CREATE TABLE Reservation (\n",
    "            ReservationID INTEGER PRIMARY KEY AUTOINCREMENT,\n",
    "            UserID INTEGER,\n",
    "            BookISBN TEXT,\n",
    "            ReservationDate TEXT,\n",
    "            DueDate TEXT,\n",
    "            Status TEXT,\n",
    "            FOREIGN KEY(UserID) REFERENCES Users(UserID),\n",
    "            FOREIGN KEY(BookISBN) REFERENCES Book(ISBN)\n",
    "        );\n",
    "        CREATE TABLE Notification (\n",
    "            NotificationID INTEGER PRIMARY KEY AUTOINCREMENT,\n",
    "            UserID INTEGER,\n",
    "            Message TEXT,\n",
    "            NotificationDate TEXT,\n",
    "            FOREIGN KEY(UserID) REFERENCES Users(UserID)\n",
    "        );\n",
    "        CREATE TABLE ReadingList (\n",
    "            ReadingListID INTEGER PRIMARY KEY AUTOINCREMENT,\n",
    "            UserID INTEGER,\n",
    "            BookISBN TEXT,\n",
    "            FOREIGN KEY(UserID) REFERENCES Users(UserID),\n",
    "            FOREIGN KEY(BookISBN) REFERENCES Book(ISBN)\n",
    "        );\n",
    "        \"\"\")\n",
    "\n",
    "controller._conn.commit()"
   ]
  },
  {
   "cell_type": "code",
   "execution_count": 25,
   "metadata": {},
   "outputs": [
    {
     "name": "stdout",
     "output_type": "stream",
     "text": [
      "test_add_book passed!\n"
     ]
    }
   ],
   "source": [
    "def test_add_book():\n",
    "        result = controller.add_book(\n",
    "            isbn='1234567890',\n",
    "            title='Test',\n",
    "            authors='Author One, Author Two',\n",
    "            description='This is a test book.',\n",
    "            genre='Fiction',\n",
    "            availability=1\n",
    "        )\n",
    "\n",
    "        assert result is True, \"Book addition failed\"\n",
    "        controller._cursor.execute(\"SELECT * FROM Book WHERE ISBN = ?\", ('1234567890',))\n",
    "        book = controller._cursor.fetchone()\n",
    "        assert book is not None, \"Book was not found in the database\"\n",
    "\n",
    "        print(\"test_add_book passed!\")\n",
    "\n",
    "test_add_book()"
   ]
  },
  {
   "cell_type": "code",
   "execution_count": 26,
   "metadata": {},
   "outputs": [
    {
     "name": "stdout",
     "output_type": "stream",
     "text": [
      "Search by title passed!\n",
      "Search by author passed!\n",
      "Search by genre passed!\n",
      "Search with no results passed!\n"
     ]
    }
   ],
   "source": [
    "def test_search_books():\n",
    "    # Search by title\n",
    "    results = controller.search_books(title='Test')\n",
    "    assert len(results) == 1, \"Search by title failed\"\n",
    "    print(\"Search by title passed!\")\n",
    "    \n",
    "    # Search by author\n",
    "    results = controller.search_books(author='Author One')\n",
    "    assert len(results) == 1, \"Search by author failed\"\n",
    "    print(\"Search by author passed!\")\n",
    "    \n",
    "    # Search by genre\n",
    "    results = controller.search_books(genre='Fiction')\n",
    "    assert len(results) == 1, \"Search by genre failed\"\n",
    "    print(\"Search by genre passed!\")\n",
    "    \n",
    "    # Search with no results\n",
    "    results = controller.search_books(title='Nonexistent')\n",
    "    assert len(results) == 0, \"Search with no results failed\"\n",
    "    print(\"Search with no results passed!\")\n",
    "\n",
    "test_search_books()"
   ]
  },
  {
   "cell_type": "code",
   "execution_count": 27,
   "metadata": {},
   "outputs": [
    {
     "name": "stdout",
     "output_type": "stream",
     "text": [
      "test_add_user passed!\n"
     ]
    }
   ],
   "source": [
    "def test_add_user():\n",
    "        result = controller.add_user(\n",
    "            name='Test User',\n",
    "            password='password123',\n",
    "            favourite_genre='Fiction'\n",
    "        )\n",
    "        assert result is True, \"User addition failed\"\n",
    "        # Verify the user was added\n",
    "        controller._cursor.execute(\"SELECT * FROM Users WHERE Name = ?\", ('Test User',))\n",
    "        user = controller._cursor.fetchone()\n",
    "        assert user is not None, \"User was not found in the database\"\n",
    "        print(\"test_add_user passed!\")\n",
    "    \n",
    "test_add_user()"
   ]
  },
  {
   "cell_type": "code",
   "execution_count": 29,
   "metadata": {},
   "outputs": [
    {
     "name": "stdout",
     "output_type": "stream",
     "text": [
      "test_add_comment passed!\n"
     ]
    }
   ],
   "source": [
    "def test_add_comment():\n",
    "        # Get user ID\n",
    "        \n",
    "        user_id = controller._cursor.execute(\"SELECT UserID FROM Users WHERE Name = ?\", ('Test User',)).fetchone()[0]\n",
    "        # Add comment\n",
    "        result = controller.add_comment(\n",
    "            user_id=user_id,\n",
    "            book_isbn='1234567890',\n",
    "            comment_text='Great book!'\n",
    "        )\n",
    "        assert result is True, \"Comment addition failed\"\n",
    "        # Verify the comment was added\n",
    "        controller._cursor.execute(\"SELECT * FROM Comment WHERE UserID = ? AND BookISBN = ?\", (user_id, '1234567890'))\n",
    "        comment = controller._cursor.fetchone()\n",
    "        assert comment is not None, \"Comment was not found in the database\"\n",
    "        print(\"test_add_comment passed!\")\n",
    "\n",
    "test_add_comment()"
   ]
  },
  {
   "cell_type": "code",
   "execution_count": 30,
   "metadata": {},
   "outputs": [
    {
     "name": "stdout",
     "output_type": "stream",
     "text": [
      "test_update_fine passed!\n"
     ]
    }
   ],
   "source": [
    "def test_update_fine():\n",
    "        \n",
    "        user_id = controller._cursor.execute(\"SELECT UserID FROM Users WHERE Name = ?\", ('Test User',)).fetchone()[0]\n",
    "        # Update fine\n",
    "        result = controller.update_fine(user_id, 10.0)\n",
    "        assert result is True, \"Fine update failed\"\n",
    "        # Verify fine is updated\n",
    "        controller._cursor.execute(\"SELECT Fine FROM Users WHERE UserID = ?\", (user_id,))\n",
    "        fine = controller._cursor.fetchone()[0]\n",
    "        assert fine == 10.0, \"Fine was not updated\"\n",
    "        print(\"test_update_fine passed!\")\n",
    "\n",
    "test_update_fine()"
   ]
  },
  {
   "cell_type": "code",
   "execution_count": 31,
   "metadata": {},
   "outputs": [
    {
     "name": "stdout",
     "output_type": "stream",
     "text": [
      "('Test', 'Author One, Author Two', 'This is a test book.', 'Fiction', 1, 2)\n"
     ]
    },
    {
     "ename": "AssertionError",
     "evalue": "Book report creation failed",
     "output_type": "error",
     "traceback": [
      "\u001b[1;31m---------------------------------------------------------------------------\u001b[0m",
      "\u001b[1;31mAssertionError\u001b[0m                            Traceback (most recent call last)",
      "Cell \u001b[1;32mIn[31], line 31\u001b[0m\n\u001b[0;32m     28\u001b[0m         \u001b[38;5;28;01massert\u001b[39;00m (report_data[\u001b[38;5;241m5\u001b[39m] \u001b[38;5;241m==\u001b[39m \u001b[38;5;241m1\u001b[39m), \u001b[38;5;124m\"\u001b[39m\u001b[38;5;124mIncorrect comment count in report\u001b[39m\u001b[38;5;124m\"\u001b[39m \u001b[38;5;66;03m# CommentCount\u001b[39;00m\n\u001b[0;32m     29\u001b[0m         \u001b[38;5;28mprint\u001b[39m(\u001b[38;5;124m\"\u001b[39m\u001b[38;5;124mtest_create_book_report passed!\u001b[39m\u001b[38;5;124m\"\u001b[39m)\n\u001b[1;32m---> 31\u001b[0m test_create_book_report()\n",
      "Cell \u001b[1;32mIn[31], line 24\u001b[0m, in \u001b[0;36mtest_create_book_report\u001b[1;34m()\u001b[0m\n\u001b[0;32m     22\u001b[0m report \u001b[38;5;241m=\u001b[39m controller\u001b[38;5;241m.\u001b[39mcreateBookReport(\u001b[38;5;124m'\u001b[39m\u001b[38;5;124m1234567890\u001b[39m\u001b[38;5;124m'\u001b[39m)\n\u001b[0;32m     23\u001b[0m \u001b[38;5;28mprint\u001b[39m(report)\n\u001b[1;32m---> 24\u001b[0m \u001b[38;5;28;01massert\u001b[39;00m \u001b[38;5;28mlen\u001b[39m(report) \u001b[38;5;241m==\u001b[39m \u001b[38;5;241m1\u001b[39m, \u001b[38;5;124m\"\u001b[39m\u001b[38;5;124mBook report creation failed\u001b[39m\u001b[38;5;124m\"\u001b[39m\n\u001b[0;32m     25\u001b[0m report_data \u001b[38;5;241m=\u001b[39m report[\u001b[38;5;241m0\u001b[39m]\n\u001b[0;32m     26\u001b[0m \u001b[38;5;28;01massert\u001b[39;00m (report_data[\u001b[38;5;241m0\u001b[39m] \u001b[38;5;241m==\u001b[39m \u001b[38;5;124m'\u001b[39m\u001b[38;5;124mTest Book\u001b[39m\u001b[38;5;124m'\u001b[39m), \u001b[38;5;124m\"\u001b[39m\u001b[38;5;124mIncorrect book title in report\u001b[39m\u001b[38;5;124m\"\u001b[39m \u001b[38;5;66;03m# Title\u001b[39;00m\n",
      "\u001b[1;31mAssertionError\u001b[0m: Book report creation failed"
     ]
    }
   ],
   "source": [
    "def test_create_book_report():\n",
    "        # Add reservation\n",
    "        controller._cursor.execute(\"SELECT UserID FROM Users WHERE Name = ?\", ('Test User',))\n",
    "        user_id = controller._cursor.fetchone()[0]\n",
    "        due_date = datetime.now() + timedelta(days=7)\n",
    "        result = controller.add_reservation(\n",
    "            user_id=user_id,\n",
    "            book_isbn='1234567890',\n",
    "            due_date=due_date\n",
    "        )\n",
    "        assert result is True, \"Reservation addition failed\"\n",
    "        \n",
    "        # Add comment\n",
    "        result = controller.add_comment(\n",
    "            user_id=user_id,\n",
    "            book_isbn='1234567890',\n",
    "            comment_text='Great book!'\n",
    "        )\n",
    "        assert result is True, \"Comment addition failed\"\n",
    "        \n",
    "        # Create book report\n",
    "        report = controller.createBookReport('1234567890')\n",
    "        print(report)\n",
    "        assert len(report) == 1, \"Book report creation failed\"\n",
    "        report_data = report[0]\n",
    "        assert (report_data[0] == 'Test Book'), \"Incorrect book title in report\" # Title\n",
    "        assert (report_data[4] == 1), \"Incorrect reservation count in report\" # ReservationCount\n",
    "        assert (report_data[5] == 1), \"Incorrect comment count in report\" # CommentCount\n",
    "        print(\"test_create_book_report passed!\")\n",
    "\n",
    "test_create_book_report()"
   ]
  },
  {
   "cell_type": "code",
   "execution_count": 32,
   "metadata": {},
   "outputs": [
    {
     "name": "stdout",
     "output_type": "stream",
     "text": [
      "Rapor oluşturma hatası: no such column: r.UserID\n"
     ]
    },
    {
     "ename": "AssertionError",
     "evalue": "User report creation failed",
     "output_type": "error",
     "traceback": [
      "\u001b[1;31m---------------------------------------------------------------------------\u001b[0m",
      "\u001b[1;31mAssertionError\u001b[0m                            Traceback (most recent call last)",
      "Cell \u001b[1;32mIn[32], line 21\u001b[0m\n\u001b[0;32m     17\u001b[0m         \u001b[38;5;28;01massert\u001b[39;00m(report_data[\u001b[38;5;241m3\u001b[39m]\u001b[38;5;241m==\u001b[39m \u001b[38;5;241m1\u001b[39m),\u001b[38;5;124m\"\u001b[39m\u001b[38;5;124mIncorrect comment count in report\u001b[39m\u001b[38;5;124m\"\u001b[39m  \u001b[38;5;66;03m# CommentCount\u001b[39;00m\n\u001b[0;32m     19\u001b[0m         \u001b[38;5;28mprint\u001b[39m(\u001b[38;5;124m\"\u001b[39m\u001b[38;5;124mtest_create_user_report passed!\u001b[39m\u001b[38;5;124m\"\u001b[39m)\n\u001b[1;32m---> 21\u001b[0m test_create_user_report()\n",
      "Cell \u001b[1;32mIn[32], line 13\u001b[0m, in \u001b[0;36mtest_create_user_report\u001b[1;34m()\u001b[0m\n\u001b[0;32m     11\u001b[0m \u001b[38;5;66;03m# Create user report\u001b[39;00m\n\u001b[0;32m     12\u001b[0m report \u001b[38;5;241m=\u001b[39m controller\u001b[38;5;241m.\u001b[39mcreateUserReport(user_id)\n\u001b[1;32m---> 13\u001b[0m \u001b[38;5;28;01massert\u001b[39;00m \u001b[38;5;28mlen\u001b[39m(report) \u001b[38;5;241m==\u001b[39m \u001b[38;5;241m1\u001b[39m, \u001b[38;5;124m\"\u001b[39m\u001b[38;5;124mUser report creation failed\u001b[39m\u001b[38;5;124m\"\u001b[39m\n\u001b[0;32m     14\u001b[0m report_data \u001b[38;5;241m=\u001b[39m report[\u001b[38;5;241m0\u001b[39m]\n\u001b[0;32m     15\u001b[0m \u001b[38;5;28;01massert\u001b[39;00m (report_data[\u001b[38;5;241m0\u001b[39m]\u001b[38;5;241m==\u001b[39m \u001b[38;5;124m'\u001b[39m\u001b[38;5;124mTest User\u001b[39m\u001b[38;5;124m'\u001b[39m),\u001b[38;5;124m\"\u001b[39m\u001b[38;5;124mIncorrect user name in report\u001b[39m\u001b[38;5;124m\"\u001b[39m \u001b[38;5;66;03m# Name\u001b[39;00m\n",
      "\u001b[1;31mAssertionError\u001b[0m: User report creation failed"
     ]
    }
   ],
   "source": [
    "def test_create_user_report():\n",
    "\n",
    "        controller._cursor.execute(\"SELECT UserID FROM Users WHERE Name = ?\", ('Test User',))\n",
    "        user_id = controller._cursor.fetchone()[0]\n",
    "        due_date = datetime.now() + timedelta(days=7)\n",
    "        controller.add_reservation(\n",
    "            user_id=user_id,\n",
    "            book_isbn='1234567890',\n",
    "            due_date=due_date\n",
    "        )\n",
    "        # Create user report\n",
    "        report = controller.createUserReport(user_id)\n",
    "        assert len(report) == 1, \"User report creation failed\"\n",
    "        report_data = report[0]\n",
    "        assert (report_data[0]== 'Test User'),\"Incorrect user name in report\" # Name\n",
    "        assert(report_data[2]== 1),\"Incorrect reservation count in report\"  # ReservationCount\n",
    "        assert(report_data[3]== 1),\"Incorrect comment count in report\"  # CommentCount\n",
    "\n",
    "        print(\"test_create_user_report passed!\")\n",
    "\n",
    "test_create_user_report()\n"
   ]
  },
  {
   "cell_type": "code",
   "execution_count": 33,
   "metadata": {},
   "outputs": [],
   "source": [
    "controller._conn.close()\n",
    "del controller"
   ]
  },
  {
   "cell_type": "code",
   "execution_count": null,
   "metadata": {},
   "outputs": [],
   "source": []
  }
 ],
 "metadata": {
  "kernelspec": {
   "display_name": "base",
   "language": "python",
   "name": "python3"
  },
  "language_info": {
   "codemirror_mode": {
    "name": "ipython",
    "version": 3
   },
   "file_extension": ".py",
   "mimetype": "text/x-python",
   "name": "python",
   "nbconvert_exporter": "python",
   "pygments_lexer": "ipython3",
   "version": "3.11.7"
  }
 },
 "nbformat": 4,
 "nbformat_minor": 2
}
